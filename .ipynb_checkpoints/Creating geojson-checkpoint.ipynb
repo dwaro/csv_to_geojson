{
 "cells": [
  {
   "cell_type": "code",
   "execution_count": 1,
   "metadata": {},
   "outputs": [],
   "source": [
    "import json\n",
    "import csv\n",
    "from csv import reader"
   ]
  },
  {
   "cell_type": "code",
   "execution_count": 2,
   "metadata": {},
   "outputs": [],
   "source": [
    "def create_feature_dict(location_record):\n",
    "    \"\"\" Takes in a location record as a list and returns it as a dictionary to be appended to the features_list \"\"\"\n",
    "    return_dict = {\"type\":\"Feature\"}\n",
    "    \n",
    "    record_dict = {}\n",
    "    \n",
    "    record_dict[\"C\"] = location_record[0]\n",
    "    record_dict[\"E\"] = location_record[5]\n",
    "    record_dict[\"SV\"] = location_record[6]\n",
    "    record_dict[\"SA\"] = location_record[7]\n",
    "    if coop_record[9] != '':\n",
    "        record_dict[\"D\"] = location_record[9]\n",
    "    \n",
    "    return_dict[\"properties\"] = record_dict\n",
    "    return_dict[\"geometry\"] = {\"type\":\"Point\",\"coordinates\":[float(location_record[2]),float(location_record[1])]}\n",
    "    \n",
    "    return return_dict"
   ]
  },
  {
   "cell_type": "code",
   "execution_count": 3,
   "metadata": {},
   "outputs": [],
   "source": [
    "def create_geojson(csv_file_open_path, file_save_path_name):\n",
    "    \"\"\" Creates a geojson from csv file \"\"\"\n",
    "    data = []\n",
    "    with open(csv_file_open_path,'r') as f:\n",
    "        reader = csv.reader(f)\n",
    "        for record in reader:\n",
    "            data.append(record)\n",
    "\n",
    "    data = data[1::]\n",
    "    \n",
    "    for record in data:\n",
    "        # shorten latitude to 4 decimal places\n",
    "        lat = record[1].split('.')\n",
    "        lat_diff = len(lat[1])-4\n",
    "        lat[1] = lat[1][0:len(lat[1])-lat_diff]\n",
    "        record[1] = float(lat[0] + '.' + lat[1])\n",
    "        \n",
    "        # shorten longitude to 4 decimal places\n",
    "        long = record[2].split('.')\n",
    "        long_diff = len(long[1])-4\n",
    "        long[1] = long[1][0:len(long[1])-long_diff]\n",
    "        record[2] = float(long[0] + '.' + long[1])\n",
    "        \n",
    "        record[4] = record[4].replace(',', ', ')\n",
    "        record[7] = record[7].replace(',', ', ')\n",
    "    \n",
    "    data_file = {\"type\": \"FeatureCollection\"}\n",
    "    data_file[\"crs\"] = {\"type\":\"name\",\"properties\":{\"name\":\"urn:ogc:def:crs:OGC:1.3:CRS84\"}}\n",
    "    features_list = []\n",
    "    \n",
    "    for coop in data:\n",
    "        features_list.append(create_feature_dict(coop))\n",
    "        \n",
    "    data_file[\"features\"] = features_list\n",
    "    \n",
    "    with open(file_save_path_name, 'w') as ff:\n",
    "        ff.write(json.dumps(data_file))\n",
    "\n",
    "create_geojson('example.csv', 'final.geojson')"
   ]
  }
 ],
 "metadata": {
  "kernelspec": {
   "display_name": "Python 3",
   "language": "python",
   "name": "python3"
  },
  "language_info": {
   "codemirror_mode": {
    "name": "ipython",
    "version": 3
   },
   "file_extension": ".py",
   "mimetype": "text/x-python",
   "name": "python",
   "nbconvert_exporter": "python",
   "pygments_lexer": "ipython3",
   "version": "3.6.4"
  }
 },
 "nbformat": 4,
 "nbformat_minor": 2
}
